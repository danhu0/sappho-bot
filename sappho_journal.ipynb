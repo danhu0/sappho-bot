{
 "cells": [
  {
   "cell_type": "code",
   "execution_count": 1,
   "metadata": {},
   "outputs": [],
   "source": [
    "import torch\n",
    "import torch.nn as nn\n",
    "import torch.optim as optim\n",
    "\n",
    "import os"
   ]
  },
  {
   "cell_type": "code",
   "execution_count": 2,
   "metadata": {},
   "outputs": [],
   "source": [
    "quotes_dir = 'quotes/'\n",
    "quotes = []\n",
    "for filename in os.listdir(quotes_dir):\n",
    "    if filename.endswith(\".txt\"):\n",
    "        with open(os.path.join(quotes_dir, filename), 'r') as file:\n",
    "            quotes.append(file.read())"
   ]
  },
  {
   "cell_type": "code",
   "execution_count": 3,
   "metadata": {},
   "outputs": [],
   "source": [
    "# Combine all quotes into a single text corpus\n",
    "text_corpus = \" \".join(quotes)\n",
    "\n",
    "words = text_corpus.split()\n",
    "vocab = sorted(set(words))\n",
    "word_to_idx = {word: i for i, word in enumerate(vocab)}\n",
    "idx_to_word = {i: word for i, word in enumerate(vocab)}\n",
    "\n",
    "# Convert the entire corpus into indices\n",
    "input_text = [word_to_idx[word] for word in words]"
   ]
  },
  {
   "cell_type": "code",
   "execution_count": 4,
   "metadata": {},
   "outputs": [],
   "source": [
    "class TextGenerationModel(nn.Module):\n",
    "    def __init__(self, vocab_size, hidden_size, num_layers):\n",
    "        super(TextGenerationModel, self).__init__()\n",
    "        self.lstm = nn.LSTM(vocab_size, hidden_size, num_layers, batch_first=True)\n",
    "        self.fc = nn.Linear(hidden_size, vocab_size)\n",
    "        self.hidden = hidden_size\n",
    "\n",
    "    def forward(self, x, hidden):\n",
    "        out, hidden = self.lstm(x, hidden)\n",
    "        out = self.fc(out)\n",
    "        return out, hidden\n",
    "\n",
    "    def init_hidden(self, batch_size):\n",
    "        return (torch.zeros(1, batch_size, self.hidden),\n",
    "                torch.zeros(1, batch_size, self.hidden))"
   ]
  },
  {
   "cell_type": "code",
   "execution_count": 5,
   "metadata": {},
   "outputs": [
    {
     "name": "stdout",
     "output_type": "stream",
     "text": [
      "Epoch 0, Loss: 3.8143272399902344\n",
      "Epoch 50, Loss: 2.5968031883239746\n",
      "Epoch 100, Loss: 1.53169846534729\n",
      "Epoch 150, Loss: 0.9912874698638916\n",
      "Epoch 200, Loss: 0.6523985862731934\n",
      "Epoch 250, Loss: 0.417743057012558\n",
      "Epoch 300, Loss: 0.25964266061782837\n",
      "Epoch 350, Loss: 0.1595037430524826\n",
      "Epoch 400, Loss: 0.10075387358665466\n",
      "Epoch 450, Loss: 0.06690414994955063\n"
     ]
    }
   ],
   "source": [
    "# Training parameters\n",
    "hidden_size = 128\n",
    "num_layers = 1\n",
    "learning_rate = 0.001\n",
    "num_epochs = 500\n",
    "\n",
    "model = TextGenerationModel(len(vocab), hidden_size, num_layers)\n",
    "criterion = nn.CrossEntropyLoss()\n",
    "optimizer = optim.Adam(model.parameters(), lr=learning_rate)\n",
    "\n",
    "# Training loop\n",
    "for epoch in range(num_epochs):\n",
    "    hidden = model.init_hidden(1)\n",
    "    optimizer.zero_grad()\n",
    "\n",
    "    input_seq = torch.eye(len(vocab))[input_text[:-1]].unsqueeze(0)\n",
    "    target_seq = torch.tensor(input_text[1:])\n",
    "\n",
    "    output, hidden = model(input_seq, hidden)\n",
    "    loss = criterion(output.squeeze(0), target_seq)\n",
    "    loss.backward()\n",
    "    optimizer.step()\n",
    "\n",
    "    if epoch % 50 == 0:\n",
    "        print(f'Epoch {epoch}, Loss: {loss.item()}')"
   ]
  },
  {
   "cell_type": "code",
   "execution_count": 7,
   "metadata": {},
   "outputs": [
    {
     "name": "stdout",
     "output_type": "stream",
     "text": [
      "she herself once blamed me Kyprogeneia because I prayed this word:\n"
     ]
    }
   ],
   "source": [
    "start_str = \"she\"\n",
    "num_generate = 10  # Number of words to generate\n",
    "\n",
    "input_seq = torch.tensor([word_to_idx[word] for word in start_str.split()])\n",
    "input_seq = torch.eye(len(vocab))[input_seq].unsqueeze(0)\n",
    "\n",
    "hidden = model.init_hidden(1)\n",
    "generated_text = start_str\n",
    "\n",
    "for _ in range(num_generate):\n",
    "    output, hidden = model(input_seq, hidden)\n",
    "    \n",
    "    last_output = output[:, -1, :]\n",
    "    next_word_idx = torch.argmax(last_output).item()\n",
    "    \n",
    "    next_word = idx_to_word[next_word_idx]\n",
    "    generated_text += \" \" + next_word\n",
    "    \n",
    "    input_seq = torch.eye(len(vocab))[torch.tensor([next_word_idx])].unsqueeze(0)\n",
    "\n",
    "print(generated_text)"
   ]
  }
 ],
 "metadata": {
  "kernelspec": {
   "display_name": "base",
   "language": "python",
   "name": "python3"
  },
  "language_info": {
   "codemirror_mode": {
    "name": "ipython",
    "version": 3
   },
   "file_extension": ".py",
   "mimetype": "text/x-python",
   "name": "python",
   "nbconvert_exporter": "python",
   "pygments_lexer": "ipython3",
   "version": "3.10.9"
  }
 },
 "nbformat": 4,
 "nbformat_minor": 2
}
