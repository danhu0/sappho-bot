{
 "cells": [
  {
   "cell_type": "code",
   "execution_count": 1,
   "metadata": {},
   "outputs": [],
   "source": [
    "import torch\n",
    "import torch.nn as nn"
   ]
  },
  {
   "cell_type": "code",
   "execution_count": 2,
   "metadata": {},
   "outputs": [],
   "source": [
    "text = \"Hello world! This is a simple text generation example using PyTorch.\"\n",
    "chars = sorted(set(text))\n",
    "char_to_idx = {char: i for i, char in enumerate(chars)}\n",
    "idx_to_char = {i: char for i, char in enumerate(chars)}\n",
    "\n",
    "input_text = [char_to_idx[c] for c in text]"
   ]
  },
  {
   "cell_type": "code",
   "execution_count": 3,
   "metadata": {},
   "outputs": [],
   "source": [
    "class TextGenerationModel(nn.Module):\n",
    "    def __init__(self, vocab_size, hidden_size, num_layers):\n",
    "        super(TextGenerationModel, self).__init__()\n",
    "        self.lstm = nn.LSTM(vocab_size, hidden_size, num_layers, batch_first=True)\n",
    "        self.fc = nn.Linear(hidden_size, vocab_size)\n",
    "        self.hidden = hidden_size\n",
    "\n",
    "    def forward(self, x, hidden):\n",
    "        out, hidden = self.lstm(x, hidden)\n",
    "        out = self.fc(out)\n",
    "        return out, hidden\n",
    "\n",
    "    def init_hidden(self, batch_size):\n",
    "        return (torch.zeros(1, batch_size, self.hidden),\n",
    "                torch.zeros(1, batch_size, self.hidden))"
   ]
  },
  {
   "cell_type": "code",
   "execution_count": 4,
   "metadata": {},
   "outputs": [
    {
     "name": "stdout",
     "output_type": "stream",
     "text": [
      "Epoch 0, Loss: 3.2283148765563965\n",
      "Epoch 50, Loss: 2.7206833362579346\n",
      "Epoch 100, Loss: 1.816262125968933\n",
      "Epoch 150, Loss: 1.1392102241516113\n",
      "Epoch 200, Loss: 0.6444710493087769\n",
      "Epoch 250, Loss: 0.35308200120925903\n",
      "Epoch 300, Loss: 0.1857905387878418\n",
      "Epoch 350, Loss: 0.1006842777132988\n",
      "Epoch 400, Loss: 0.05999081954360008\n",
      "Epoch 450, Loss: 0.039233557879924774\n"
     ]
    }
   ],
   "source": [
    "import torch.optim as optim\n",
    "\n",
    "# Hyperparameters\n",
    "hidden_size = 128\n",
    "num_layers = 1\n",
    "learning_rate = 0.001\n",
    "num_epochs = 500\n",
    "\n",
    "model = TextGenerationModel(len(chars), hidden_size, num_layers)\n",
    "criterion = nn.CrossEntropyLoss()\n",
    "optimizer = optim.Adam(model.parameters(), lr=learning_rate)\n",
    "\n",
    "for epoch in range(num_epochs):\n",
    "    hidden = model.init_hidden(1)\n",
    "    optimizer.zero_grad()\n",
    "\n",
    "    input_seq = torch.eye(len(chars))[input_text[:-1]].unsqueeze(0)\n",
    "    target_seq = torch.tensor(input_text[1:])\n",
    "\n",
    "    output, hidden = model(input_seq, hidden)\n",
    "    loss = criterion(output.squeeze(0), target_seq)\n",
    "    loss.backward()\n",
    "    optimizer.step()\n",
    "\n",
    "    if epoch % 50 == 0:\n",
    "        print(f'Epoch {epoch}, Loss: {loss.item()}')"
   ]
  },
  {
   "cell_type": "code",
   "execution_count": 5,
   "metadata": {},
   "outputs": [
    {
     "name": "stdout",
     "output_type": "stream",
     "text": [
      "Hello world! This is a simple text generation example using PyTorch...... is eexteleloo wolld! This is a \n"
     ]
    }
   ],
   "source": [
    "start_str = \"Hello\"\n",
    "num_generate = 100\n",
    "\n",
    "input_seq = torch.tensor([char_to_idx[c] for c in start_str])\n",
    "input_seq = torch.eye(len(chars))[input_seq].unsqueeze(0)\n",
    "\n",
    "hidden = model.init_hidden(1)\n",
    "generated_text = start_str\n",
    "\n",
    "for _ in range(num_generate):\n",
    "    output, hidden = model(input_seq, hidden)\n",
    "    \n",
    "    # output: [1, sequence_length, vocab_size], we want the last character's output\n",
    "    last_output = output[:, -1, :]  # Extract the last output in the sequence\n",
    "    \n",
    "    # Get the index of the character with the highest score\n",
    "    next_char_idx = torch.argmax(last_output).item()\n",
    "    \n",
    "    # Add the predicted character to the generated text\n",
    "    generated_text += idx_to_char[next_char_idx]\n",
    "    \n",
    "    # Prepare the next input sequence with the newly predicted character\n",
    "    input_seq = torch.eye(len(chars))[torch.tensor([next_char_idx])].unsqueeze(0)\n",
    "\n",
    "print(generated_text)\n"
   ]
  }
 ],
 "metadata": {
  "kernelspec": {
   "display_name": "base",
   "language": "python",
   "name": "python3"
  },
  "language_info": {
   "codemirror_mode": {
    "name": "ipython",
    "version": 3
   },
   "file_extension": ".py",
   "mimetype": "text/x-python",
   "name": "python",
   "nbconvert_exporter": "python",
   "pygments_lexer": "ipython3",
   "version": "3.10.9"
  }
 },
 "nbformat": 4,
 "nbformat_minor": 2
}
